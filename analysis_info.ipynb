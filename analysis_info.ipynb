{
 "cells": [
  {
   "cell_type": "code",
   "execution_count": 8,
   "id": "cd4974be-bac4-4287-a816-51371ad893c1",
   "metadata": {},
   "outputs": [],
   "source": [
    "from pyspark.sql import SparkSession\n",
    "import pyspark.sql.functions as F"
   ]
  },
  {
   "cell_type": "code",
   "execution_count": 10,
   "id": "45182fc5-e097-4cd8-833e-138d97321dca",
   "metadata": {},
   "outputs": [
    {
     "name": "stderr",
     "output_type": "stream",
     "text": [
      "WARNING: Using incubator modules: jdk.incubator.vector\n",
      "Using Spark's default log4j profile: org/apache/spark/log4j2-defaults.properties\n",
      "25/07/19 17:55:36 WARN Utils: Your hostname, king, resolves to a loopback address: 127.0.1.1; using 192.168.0.105 instead (on interface enp4s0)\n",
      "25/07/19 17:55:36 WARN Utils: Set SPARK_LOCAL_IP if you need to bind to another address\n",
      "Using Spark's default log4j profile: org/apache/spark/log4j2-defaults.properties\n",
      "Setting default log level to \"WARN\".\n",
      "To adjust logging level use sc.setLogLevel(newLevel). For SparkR, use setLogLevel(newLevel).\n",
      "25/07/19 17:55:46 WARN NativeCodeLoader: Unable to load native-hadoop library for your platform... using builtin-java classes where applicable\n",
      "25/07/19 17:55:47 WARN Utils: Service 'SparkUI' could not bind on port 4040. Attempting port 4041.\n",
      "25/07/19 17:55:47 WARN Utils: Service 'SparkUI' could not bind on port 4041. Attempting port 4042.\n",
      "25/07/19 17:55:47 WARN Utils: Service 'SparkUI' could not bind on port 4042. Attempting port 4043.\n"
     ]
    },
    {
     "name": "stdout",
     "output_type": "stream",
     "text": [
      "Активные Spark сессии: http://192.168.0.105:4043\n"
     ]
    }
   ],
   "source": [
    "spark = SparkSession\\\n",
    "    .builder\\\n",
    "    .appName(\"analisisLogs\")\\\n",
    "    .getOrCreate()\n",
    "\n",
    "print(\"Активные Spark сессии:\", spark.sparkContext.uiWebUrl)"
   ]
  },
  {
   "cell_type": "code",
   "execution_count": 11,
   "id": "bf4a9ea2-daa2-4abb-82c3-e3fea9393b6d",
   "metadata": {},
   "outputs": [
    {
     "name": "stdout",
     "output_type": "stream",
     "text": [
      "analisis_info.ipynb  web_server_logs.csv\n"
     ]
    }
   ],
   "source": [
    "!ls"
   ]
  },
  {
   "cell_type": "code",
   "execution_count": 12,
   "id": "fc97af2e-ee89-4c85-b53a-8a218843c179",
   "metadata": {},
   "outputs": [],
   "source": [
    "PATH = \"web_server_logs.csv\""
   ]
  },
  {
   "cell_type": "code",
   "execution_count": 13,
   "id": "54b5b0e5-00cd-485e-bcd7-15f02d6e9a7c",
   "metadata": {},
   "outputs": [
    {
     "name": "stdout",
     "output_type": "stream",
     "text": [
      "+--------------+--------------------+------+--------------------+-------------+-------------+\n",
      "|           _c0|                 _c1|   _c2|                 _c3|          _c4|          _c5|\n",
      "+--------------+--------------------+------+--------------------+-------------+-------------+\n",
      "|            ip|           timestamp|method|                 url|response_code|response_size|\n",
      "|107.234.133.87|2025-05-12T16:19:...|   PUT|category/wp-conte...|          200|         5678|\n",
      "|  215.25.19.75|2025-01-15T07:34:...|   PUT|           list/blog|          500|         8332|\n",
      "|122.130.84.128|2025-07-01T02:00:...|  POST|           posts/tag|          301|         1687|\n",
      "|  174.123.16.3|2025-03-23T19:27:...|   PUT|                tags|          404|         3539|\n",
      "+--------------+--------------------+------+--------------------+-------------+-------------+\n",
      "only showing top 5 rows\n"
     ]
    }
   ],
   "source": [
    "spark.read.csv(PATH).show(5)"
   ]
  },
  {
   "cell_type": "code",
   "execution_count": 16,
   "id": "c8016abc-b58c-4cd4-9933-5883ec7ac4fd",
   "metadata": {},
   "outputs": [
    {
     "name": "stdout",
     "output_type": "stream",
     "text": [
      "-RECORD 0-----------------------------------\n",
      " ip            | 107.234.133.87             \n",
      " timestamp     | 2025-05-12T16:19:50.875140 \n",
      " method        | PUT                        \n",
      " url           | category/wp-content/tags   \n",
      " response_code | 200                        \n",
      " response_size | 5678                       \n",
      "-RECORD 1-----------------------------------\n",
      " ip            | 215.25.19.75               \n",
      " timestamp     | 2025-01-15T07:34:44.835729 \n",
      " method        | PUT                        \n",
      " url           | list/blog                  \n",
      " response_code | 500                        \n",
      " response_size | 8332                       \n",
      "only showing top 2 rows\n"
     ]
    }
   ],
   "source": [
    "df = spark.read.csv(PATH, header=True)\n",
    "\n",
    "df.show(2, False, True)"
   ]
  },
  {
   "cell_type": "code",
   "execution_count": 17,
   "id": "b3cec364-c258-4b06-969e-0818edbcc099",
   "metadata": {},
   "outputs": [
    {
     "name": "stdout",
     "output_type": "stream",
     "text": [
      "root\n",
      " |-- ip: string (nullable = true)\n",
      " |-- timestamp: string (nullable = true)\n",
      " |-- method: string (nullable = true)\n",
      " |-- url: string (nullable = true)\n",
      " |-- response_code: string (nullable = true)\n",
      " |-- response_size: string (nullable = true)\n",
      "\n"
     ]
    }
   ],
   "source": [
    "df.printSchema()"
   ]
  },
  {
   "cell_type": "code",
   "execution_count": 24,
   "id": "683b2bb0-380d-4c7d-9ab4-2c4ac8819827",
   "metadata": {},
   "outputs": [],
   "source": [
    "df = df.withColumn(\"timestamp\", F.col(\"timestamp\").cast(\"date\"))"
   ]
  },
  {
   "cell_type": "code",
   "execution_count": 25,
   "id": "7936a2b1-bdd0-4ecc-ae42-7f514cb06231",
   "metadata": {},
   "outputs": [
    {
     "name": "stdout",
     "output_type": "stream",
     "text": [
      "root\n",
      " |-- ip: string (nullable = true)\n",
      " |-- timestamp: date (nullable = true)\n",
      " |-- method: string (nullable = true)\n",
      " |-- url: string (nullable = true)\n",
      " |-- response_code: string (nullable = true)\n",
      " |-- response_size: string (nullable = true)\n",
      "\n"
     ]
    }
   ],
   "source": [
    "df.printSchema()"
   ]
  },
  {
   "cell_type": "code",
   "execution_count": 26,
   "id": "e19fd618-5a31-46f3-9782-c6fbe3668040",
   "metadata": {},
   "outputs": [
    {
     "name": "stdout",
     "output_type": "stream",
     "text": [
      "+--------------+----------+------+--------------------+-------------+-------------+\n",
      "|            ip| timestamp|method|                 url|response_code|response_size|\n",
      "+--------------+----------+------+--------------------+-------------+-------------+\n",
      "|107.234.133.87|2025-05-12|   PUT|category/wp-conte...|          200|         5678|\n",
      "|  215.25.19.75|2025-01-15|   PUT|           list/blog|          500|         8332|\n",
      "|122.130.84.128|2025-07-01|  POST|           posts/tag|          301|         1687|\n",
      "+--------------+----------+------+--------------------+-------------+-------------+\n",
      "only showing top 3 rows\n"
     ]
    }
   ],
   "source": [
    "df.show(3)"
   ]
  },
  {
   "cell_type": "markdown",
   "id": "a0a46c02-ad47-4fff-a9af-d169001b39b2",
   "metadata": {},
   "source": [
    "<h2>Групировка по ip и вывод самых активных</h2>"
   ]
  },
  {
   "cell_type": "code",
   "execution_count": 30,
   "id": "8a2dd51c-4e9f-4c09-ba10-2e40e56021d1",
   "metadata": {},
   "outputs": [
    {
     "name": "stdout",
     "output_type": "stream",
     "text": [
      "+--------------+-------------+\n",
      "|            ip|request_count|\n",
      "+--------------+-------------+\n",
      "|91.233.187.225|            2|\n",
      "| 84.238.175.42|            1|\n",
      "|75.108.173.172|            1|\n",
      "|104.156.144.63|            1|\n",
      "| 130.61.86.206|            1|\n",
      "|45.112.254.216|            1|\n",
      "|50.220.165.111|            1|\n",
      "|   70.46.74.58|            1|\n",
      "|  164.71.54.76|            1|\n",
      "| 150.154.24.35|            1|\n",
      "+--------------+-------------+\n",
      "\n"
     ]
    }
   ],
   "source": [
    "df\\\n",
    "    .groupBy(\"ip\")\\\n",
    "    .agg(F.count(\"*\").alias(\"request_count\"))\\\n",
    "    .orderBy(F.col(\"request_count\").desc())\\\n",
    "    .limit(10)\\\n",
    "    .show()"
   ]
  },
  {
   "cell_type": "markdown",
   "id": "59a4872d-1eb4-4f1b-ac93-d89968e245d4",
   "metadata": {},
   "source": [
    "<h2>Групировка по HTTP и подсчет количества</h2>"
   ]
  },
  {
   "cell_type": "code",
   "execution_count": 31,
   "id": "a040f962-a817-4958-96fa-289ab88bfabd",
   "metadata": {},
   "outputs": [
    {
     "name": "stdout",
     "output_type": "stream",
     "text": [
      "+------+-------------+\n",
      "|method|request_count|\n",
      "+------+-------------+\n",
      "|  POST|        25153|\n",
      "|   GET|        25146|\n",
      "|   PUT|        24885|\n",
      "|DELETE|        24816|\n",
      "+------+-------------+\n",
      "\n"
     ]
    }
   ],
   "source": [
    "df\\\n",
    "    .groupBy(\"method\")\\\n",
    "    .agg(F.count(\"*\").alias(\"request_count\"))\\\n",
    "    .orderBy(F.col(\"request_count\").desc())\\\n",
    "    .show()"
   ]
  },
  {
   "cell_type": "markdown",
   "id": "556a3c41-8ef5-467e-a06c-c117c5e5204f",
   "metadata": {},
   "source": [
    "<h2>Вывод записей с ошибкой 404</h2>"
   ]
  },
  {
   "cell_type": "code",
   "execution_count": 39,
   "id": "4dc46683-50fb-4e4e-b184-275d6abda00a",
   "metadata": {},
   "outputs": [
    {
     "name": "stdout",
     "output_type": "stream",
     "text": [
      "+--------------+----------+------+--------------------+-------------+-------------+\n",
      "|            ip| timestamp|method|                 url|response_code|response_size|\n",
      "+--------------+----------+------+--------------------+-------------+-------------+\n",
      "|  174.123.16.3|2025-03-23|   PUT|                tags|          404|         3539|\n",
      "| 43.55.103.134|2025-02-08|   GET|wp-content/wp-con...|          404|         7352|\n",
      "| 4.123.174.239|2025-02-14|DELETE|wp-content/app/wp...|          404|          270|\n",
      "|  34.23.138.28|2025-07-17|   GET|    categories/posts|          404|         8403|\n",
      "|171.217.108.43|2025-03-28|DELETE|categories/search...|          404|         8083|\n",
      "+--------------+----------+------+--------------------+-------------+-------------+\n",
      "only showing top 5 rows\n"
     ]
    }
   ],
   "source": [
    "df.filter(df[\"response_code\"] == 404).show(5)"
   ]
  },
  {
   "cell_type": "code",
   "execution_count": 40,
   "id": "8e238b19-73d1-4465-91e1-3649bfd57e12",
   "metadata": {},
   "outputs": [
    {
     "name": "stdout",
     "output_type": "stream",
     "text": [
      "+--------------+----------+------+--------------------+-------------+-------------+\n",
      "|            ip| timestamp|method|                 url|response_code|response_size|\n",
      "+--------------+----------+------+--------------------+-------------+-------------+\n",
      "|  174.123.16.3|2025-03-23|   PUT|                tags|          404|         3539|\n",
      "| 43.55.103.134|2025-02-08|   GET|wp-content/wp-con...|          404|         7352|\n",
      "| 4.123.174.239|2025-02-14|DELETE|wp-content/app/wp...|          404|          270|\n",
      "|  34.23.138.28|2025-07-17|   GET|    categories/posts|          404|         8403|\n",
      "|171.217.108.43|2025-03-28|DELETE|categories/search...|          404|         8083|\n",
      "+--------------+----------+------+--------------------+-------------+-------------+\n",
      "only showing top 5 rows\n"
     ]
    }
   ],
   "source": [
    "df.where(df.response_code == 404).show(5)"
   ]
  },
  {
   "cell_type": "code",
   "execution_count": 45,
   "id": "ad16d7e6-d24e-4f5a-a2e6-ca3879ba3dd2",
   "metadata": {},
   "outputs": [
    {
     "name": "stdout",
     "output_type": "stream",
     "text": [
      "+----------+-------------------+\n",
      "| timestamp|total_response_size|\n",
      "+----------+-------------------+\n",
      "|2025-01-01|          2449098.0|\n",
      "|2025-01-02|          2510894.0|\n",
      "|2025-01-03|          2584497.0|\n",
      "|2025-01-04|          2540923.0|\n",
      "|2025-01-05|          2457712.0|\n",
      "|2025-01-06|          2506474.0|\n",
      "|2025-01-07|          2573893.0|\n",
      "|2025-01-08|          2538078.0|\n",
      "|2025-01-09|          2766398.0|\n",
      "|2025-01-10|          2766685.0|\n",
      "|2025-01-11|          2487781.0|\n",
      "|2025-01-12|          2762943.0|\n",
      "|2025-01-13|          2333733.0|\n",
      "|2025-01-14|          2513003.0|\n",
      "|2025-01-15|          2564854.0|\n",
      "|2025-01-16|          2334054.0|\n",
      "|2025-01-17|          2207826.0|\n",
      "|2025-01-18|          2310628.0|\n",
      "|2025-01-19|          2594186.0|\n",
      "|2025-01-20|          2421061.0|\n",
      "+----------+-------------------+\n",
      "only showing top 20 rows\n"
     ]
    }
   ],
   "source": [
    "df\\\n",
    "    .groupBy(\"timestamp\")\\\n",
    "    .agg(F.sum(\"response_size\").alias(\"total_response_size\"))\\\n",
    "    .orderBy(F.col(\"timestamp\"))\\\n",
    "    .show()"
   ]
  }
 ],
 "metadata": {
  "kernelspec": {
   "display_name": "Python 3 (ipykernel)",
   "language": "python",
   "name": "python3"
  },
  "language_info": {
   "codemirror_mode": {
    "name": "ipython",
    "version": 3
   },
   "file_extension": ".py",
   "mimetype": "text/x-python",
   "name": "python",
   "nbconvert_exporter": "python",
   "pygments_lexer": "ipython3",
   "version": "3.12.7"
  }
 },
 "nbformat": 4,
 "nbformat_minor": 5
}
